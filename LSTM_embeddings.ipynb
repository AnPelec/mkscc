{
 "cells": [
  {
   "cell_type": "code",
   "execution_count": 1,
   "metadata": {},
   "outputs": [
    {
     "name": "stderr",
     "output_type": "stream",
     "text": [
      "C:\\ProgramData\\Anaconda3\\lib\\site-packages\\h5py\\__init__.py:36: FutureWarning: Conversion of the second argument of issubdtype from `float` to `np.floating` is deprecated. In future, it will be treated as `np.float64 == np.dtype(float).type`.\n",
      "  from ._conv import register_converters as _register_converters\n",
      "Using TensorFlow backend.\n"
     ]
    }
   ],
   "source": [
    "import re\n",
    "import sys\n",
    "import numpy as np\n",
    "import pandas as pd\n",
    "from datetime import datetime\n",
    "from sklearn.neural_network import MLPClassifier\n",
    "from sklearn.metrics import confusion_matrix, f1_score\n",
    "from sklearn.preprocessing import LabelEncoder\n",
    "from sklearn.preprocessing import OneHotEncoder\n",
    "from sklearn.linear_model import LogisticRegression\n",
    "from sklearn.model_selection import cross_val_predict\n",
    "from sklearn.model_selection import cross_val_score\n",
    "from sklearn.model_selection import train_test_split\n",
    "from sklearn.feature_extraction.text import CountVectorizer\n",
    "\n",
    "from keras.preprocessing.sequence import pad_sequences\n",
    "from keras.layers import LSTM, Dense\n",
    "from keras.models import Sequential"
   ]
  },
  {
   "cell_type": "markdown",
   "metadata": {},
   "source": [
    "### Initializing the Embeddings (GloVe)"
   ]
  },
  {
   "cell_type": "code",
   "execution_count": 2,
   "metadata": {
    "scrolled": true
   },
   "outputs": [
    {
     "name": "stdout",
     "output_type": "stream",
     "text": [
      "500000\n",
      "1000000\n",
      "1500000\n"
     ]
    }
   ],
   "source": [
    "EMBEDDING_FILE = 'glove.42B.300d.txt'\n",
    "embeddings_index = {}\n",
    "f = open(EMBEDDING_FILE, encoding='utf-8')\n",
    "count = 0\n",
    "for line in f:\n",
    "    values = line.split()\n",
    "    word = values[0]\n",
    "    coefs = np.asarray(values[1:], dtype='float32')\n",
    "    embeddings_index[word] = coefs\n",
    "    count += 1\n",
    "    if count%500000 == 0:\n",
    "        print(count)\n",
    "f.close()"
   ]
  },
  {
   "cell_type": "code",
   "execution_count": 3,
   "metadata": {},
   "outputs": [],
   "source": [
    "def get_embeddings(word):\n",
    "    if word in embeddings_index:\n",
    "        return embeddings_index[word]\n",
    "    return np.zeros((300,))"
   ]
  },
  {
   "cell_type": "code",
   "execution_count": 4,
   "metadata": {},
   "outputs": [],
   "source": [
    "df_train = pd.read_csv('urop_dataset_training.csv')\n",
    "df_validation = pd.read_csv('urop_dataset_validation.csv')"
   ]
  },
  {
   "cell_type": "code",
   "execution_count": 5,
   "metadata": {},
   "outputs": [],
   "source": [
    "def make_POD(curr):\n",
    "    if curr == \"POD/brain\":\n",
    "        return \"POD\"\n",
    "    return curr\n",
    "\n",
    "def preprocess(df_train):\n",
    "    # this field is the class we're trying to predict and hence we have to strip any whitespaces from it\n",
    "    df_train[\"Objective Response per RECIST v1.1\"] = df_train[\"Objective Response per RECIST v1.1\"].apply(lambda x: make_POD(x.strip()))\n",
    "    # cleaning scan report text - keep only words and numbers with spaces between them\n",
    "    df_train[\"clean_report_text\"] = df_train[\"Scan report text\"].apply(lambda text: re.sub('\\W+', ' ', text).lower().strip() + str(' '))\n",
    "    return df_train"
   ]
  },
  {
   "cell_type": "code",
   "execution_count": 6,
   "metadata": {},
   "outputs": [],
   "source": [
    "df_train = df_train[df_train[\"Scan included on RECIST form? (y/n)\"] == \"yes\"]"
   ]
  },
  {
   "cell_type": "code",
   "execution_count": 7,
   "metadata": {},
   "outputs": [],
   "source": [
    "def make_groupings(df_train):\n",
    "    # group the reports by patient and baseline\n",
    "    column_patient = 'Patient ID'\n",
    "    column_baseline = 'Scan timepoint (baseline = prior to treatment start, ontx = during treatment or prior to progression if stopped treatment , progression = time of RECIST defined progression)'\n",
    "    df_train['is_baseline'] = (df_train[column_baseline] == 'baseline')\n",
    "    groupped_df = df_train.groupby([column_patient, 'is_baseline'])['clean_report_text'].apply(lambda x: x.sum())\n",
    "    predictions = df_train.groupby(['Patient ID'])[\"Objective Response per RECIST v1.1\"].first()\n",
    "\n",
    "    # fill missing reports with nothing\n",
    "    for i, v in groupped_df.iteritems():\n",
    "        patient, baseline = i\n",
    "        if (patient, not baseline) not in groupped_df:\n",
    "            groupped_df[(patient, not baseline)] = 'insert random word'\n",
    "\n",
    "    # now create the different dataframes\n",
    "    groupped_df = groupped_df.to_frame().reset_index()\n",
    "    baseline_reports = groupped_df[groupped_df['is_baseline'] == True]\n",
    "    progress_reports = groupped_df[groupped_df['is_baseline'] == False]\n",
    "    return (baseline_reports, progress_reports, predictions)"
   ]
  },
  {
   "cell_type": "code",
   "execution_count": 8,
   "metadata": {},
   "outputs": [],
   "source": [
    "def prepare_y(data_y): # DON'T FORGET TO ADD ONE HOT\n",
    "    label_enc = LabelEncoder()\n",
    "    label_enc_y = label_enc.fit(data_y.values)\n",
    "    return label_enc_y.transform(data_y.values.reshape(-1, 1))"
   ]
  },
  {
   "cell_type": "code",
   "execution_count": 9,
   "metadata": {},
   "outputs": [],
   "source": [
    "def try_model(df_train, baseline_features=5000, progress_features=5000, C=0.1):\n",
    "    # preprocess dataset\n",
    "    df_train = preprocess(df_train)\n",
    "    # second step of data processing\n",
    "    (baseline_reports, progress_reports, predictions) = make_partial_groupings(df_train)\n",
    "    # find trainY\n",
    "    trainY = prepare_y(predictions)\n",
    "    return (baseline_reports, progress_reports, prepare_y(predictions), C)"
   ]
  },
  {
   "cell_type": "code",
   "execution_count": 10,
   "metadata": {},
   "outputs": [],
   "source": [
    "df_train = preprocess(df_train)"
   ]
  },
  {
   "cell_type": "code",
   "execution_count": 11,
   "metadata": {},
   "outputs": [],
   "source": [
    "(baseline_reports, progress_reports, predictions) = make_groupings(df_train)"
   ]
  },
  {
   "cell_type": "code",
   "execution_count": 12,
   "metadata": {},
   "outputs": [
    {
     "data": {
      "text/plain": [
       "2057"
      ]
     },
     "execution_count": 12,
     "metadata": {},
     "output_type": "execute_result"
    }
   ],
   "source": [
    "baseline_reports['word_size'] = baseline_reports['clean_report_text'].apply(lambda x: len(x.split(' ')))\n",
    "baseline_reports['word_size'].max()"
   ]
  },
  {
   "cell_type": "code",
   "execution_count": 13,
   "metadata": {},
   "outputs": [
    {
     "data": {
      "text/plain": [
       "26232"
      ]
     },
     "execution_count": 13,
     "metadata": {},
     "output_type": "execute_result"
    }
   ],
   "source": [
    "progress_reports['word_size'] = progress_reports['clean_report_text'].apply(lambda x: len(x.split(' ')))\n",
    "progress_reports['word_size'].max()"
   ]
  },
  {
   "cell_type": "code",
   "execution_count": 14,
   "metadata": {},
   "outputs": [],
   "source": [
    "baseline_reports['text'] = baseline_reports['clean_report_text'].apply(lambda x: [get_embeddings(word) for word in x.split(' ')])"
   ]
  },
  {
   "cell_type": "code",
   "execution_count": 15,
   "metadata": {},
   "outputs": [],
   "source": [
    "progress_reports['text'] = progress_reports['clean_report_text'].apply(lambda x: [get_embeddings(word) for word in x.split(' ')])"
   ]
  },
  {
   "cell_type": "code",
   "execution_count": 29,
   "metadata": {},
   "outputs": [],
   "source": [
    "x = baseline_reports['text'].tolist()\n",
    "baseline = pad_sequences(x, maxlen=2000, dtype='object', padding='pre', truncating='pre', value=get_embeddings('tseos'))"
   ]
  },
  {
   "cell_type": "code",
   "execution_count": 30,
   "metadata": {},
   "outputs": [],
   "source": [
    "x = progress_reports['text'].tolist()\n",
    "progress = pad_sequences(x, maxlen=2000, dtype='object', padding='pre', truncating='pre', value=get_embeddings('tseos'))"
   ]
  },
  {
   "cell_type": "code",
   "execution_count": 31,
   "metadata": {},
   "outputs": [],
   "source": [
    "def create_model():\n",
    "    model = Sequential()\n",
    "    model.add(LSTM(units=300, input_shape=(4000, 300))) # for everything first\n",
    "    model.add(Dense(4, activation='softmax'))\n",
    "    \n",
    "    model.compile(loss = 'categorical_crossentropy', optimizer='adam', metrics=['accuracy'])\n",
    "    return model"
   ]
  },
  {
   "cell_type": "code",
   "execution_count": 32,
   "metadata": {},
   "outputs": [],
   "source": [
    "model = create_model()"
   ]
  },
  {
   "cell_type": "code",
   "execution_count": 33,
   "metadata": {},
   "outputs": [],
   "source": [
    "trainX = np.hstack([baseline, progress])"
   ]
  },
  {
   "cell_type": "code",
   "execution_count": 34,
   "metadata": {},
   "outputs": [],
   "source": [
    "trainY = predictions"
   ]
  },
  {
   "cell_type": "code",
   "execution_count": 35,
   "metadata": {},
   "outputs": [],
   "source": [
    "label_enc = LabelEncoder()\n",
    "label_enc.fit(trainY)\n",
    "trainY = label_enc.transform(trainY).reshape((-1, 1))\n",
    "onehot_enc = OneHotEncoder()\n",
    "onehot_enc.fit(trainY)\n",
    "trainY = onehot_enc.transform(trainY)"
   ]
  },
  {
   "cell_type": "code",
   "execution_count": 36,
   "metadata": {},
   "outputs": [
    {
     "data": {
      "text/plain": [
       "(361, 4)"
      ]
     },
     "execution_count": 36,
     "metadata": {},
     "output_type": "execute_result"
    }
   ],
   "source": [
    "trainY.shape"
   ]
  },
  {
   "cell_type": "code",
   "execution_count": null,
   "metadata": {},
   "outputs": [
    {
     "name": "stdout",
     "output_type": "stream",
     "text": [
      "Train on 306 samples, validate on 55 samples\n",
      "Epoch 1/10\n",
      "306/306 [==============================] - 1205s 4s/step - loss: 1.1507 - acc: 0.3497 - val_loss: 1.6650 - val_acc: 0.2727\n",
      "Epoch 2/10\n",
      "306/306 [==============================] - 1382s 5s/step - loss: 1.0396 - acc: 0.4739 - val_loss: 1.8365 - val_acc: 0.2545\n",
      "Epoch 3/10\n",
      "306/306 [==============================] - 1421s 5s/step - loss: 0.9948 - acc: 0.5065 - val_loss: 1.7832 - val_acc: 0.3455\n",
      "Epoch 4/10\n",
      "306/306 [==============================] - 12089s 40s/step - loss: 0.9699 - acc: 0.5294 - val_loss: 1.8567 - val_acc: 0.2909\n",
      "Epoch 5/10\n",
      " 40/306 [==>...........................] - ETA: 27:23 - loss: 0.8210 - acc: 0.7250"
     ]
    }
   ],
   "source": [
    "model.fit(trainX, trainY, epochs=10, validation_split=0.15, batch_size=40)"
   ]
  },
  {
   "cell_type": "code",
   "execution_count": null,
   "metadata": {},
   "outputs": [],
   "source": []
  }
 ],
 "metadata": {
  "kernelspec": {
   "display_name": "Python 3",
   "language": "python",
   "name": "python3"
  },
  "language_info": {
   "codemirror_mode": {
    "name": "ipython",
    "version": 3
   },
   "file_extension": ".py",
   "mimetype": "text/x-python",
   "name": "python",
   "nbconvert_exporter": "python",
   "pygments_lexer": "ipython3",
   "version": "3.6.5"
  }
 },
 "nbformat": 4,
 "nbformat_minor": 2
}
