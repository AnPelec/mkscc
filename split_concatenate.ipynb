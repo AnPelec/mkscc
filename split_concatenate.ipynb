{
 "cells": [
  {
   "cell_type": "markdown",
   "metadata": {},
   "source": [
    "### The idea behind this is to split the reports and then concatenate the feature vectors\n",
    "\n",
    "##### Possible splitting points:\n",
    "###### - Baseline vs Ontx\n",
    "###### - Middle"
   ]
  },
  {
   "cell_type": "code",
   "execution_count": 1,
   "metadata": {},
   "outputs": [],
   "source": [
    "import re\n",
    "import sys\n",
    "import numpy as np\n",
    "import pandas as pd\n",
    "from datetime import datetime\n",
    "from sklearn.neural_network import MLPClassifier\n",
    "from sklearn.metrics import confusion_matrix, f1_score\n",
    "from sklearn.preprocessing import LabelEncoder\n",
    "from sklearn.preprocessing import OneHotEncoder\n",
    "from sklearn.linear_model import LogisticRegression\n",
    "from sklearn.model_selection import cross_val_predict\n",
    "from sklearn.model_selection import cross_val_score\n",
    "from sklearn.model_selection import train_test_split\n",
    "from sklearn.ensemble import GradientBoostingClassifier\n",
    "from sklearn.feature_extraction.text import CountVectorizer"
   ]
  },
  {
   "cell_type": "code",
   "execution_count": 2,
   "metadata": {},
   "outputs": [],
   "source": [
    "# reading and preprocessing the data\n",
    "df_train = pd.read_csv('urop_dataset_training.csv')\n",
    "df_validation = pd.read_csv('urop_dataset_validation.csv')\n",
    "\n",
    "def make_POD(curr):\n",
    "    if curr == \"POD/brain\":\n",
    "        return \"POD\"\n",
    "    return curr\n",
    "\n",
    "def preprocess(df_train):\n",
    "    # this field is the class we're trying to predict and hence we have to strip any whitespaces from it\n",
    "    df_train[\"Objective Response per RECIST v1.1\"] = df_train[\"Objective Response per RECIST v1.1\"].apply(lambda x: make_POD(x.strip()))\n",
    "    # cleaning scan report text - keep only words and numbers with spaces between them\n",
    "    df_train[\"clean_report_text\"] = df_train[\"Scan report text\"].apply(lambda text: re.sub('\\W+', ' ', text).lower().strip() + str(' '))\n",
    "    return df_train"
   ]
  },
  {
   "cell_type": "code",
   "execution_count": 13,
   "metadata": {},
   "outputs": [],
   "source": [
    "import warnings\n",
    "warnings.filterwarnings(\"ignore\")"
   ]
  },
  {
   "cell_type": "markdown",
   "metadata": {},
   "source": [
    "### Initialize GloVe Embeddings"
   ]
  },
  {
   "cell_type": "code",
   "execution_count": null,
   "metadata": {
    "scrolled": true
   },
   "outputs": [],
   "source": [
    "EMBEDDING_FILE = 'glove.42B.300d.txt'\n",
    "embeddings_index = {}\n",
    "f = open(EMBEDDING_FILE, encoding='utf-8')\n",
    "count = 0\n",
    "for line in f:\n",
    "    values = line.split()\n",
    "    word = values[0]\n",
    "    coefs = np.asarray(values[1:], dtype='float32')\n",
    "    embeddings_index[word] = coefs\n",
    "    count += 1\n",
    "    if count%50000 == 0:\n",
    "        print(count)\n",
    "f.close()"
   ]
  },
  {
   "cell_type": "code",
   "execution_count": null,
   "metadata": {},
   "outputs": [],
   "source": [
    "def get_embeddings(word):\n",
    "    if word in embeddings_index:\n",
    "        return embeddings_index[word]\n",
    "    return np.zeros((300,))"
   ]
  },
  {
   "cell_type": "markdown",
   "metadata": {},
   "source": [
    "### We have the choice to skip the entries that don't have the Use resist form because they are irrelevant\n",
    "\n",
    "#### This has increased accuracy of the baseline-split to 73% and for the normal one to 63.5%"
   ]
  },
  {
   "cell_type": "code",
   "execution_count": 3,
   "metadata": {},
   "outputs": [],
   "source": [
    "df_train = df_train[df_train[\"Scan included on RECIST form? (y/n)\"] == \"yes\"]"
   ]
  },
  {
   "cell_type": "markdown",
   "metadata": {},
   "source": [
    "### Split for Baseline vs Ontx\n",
    "\n",
    "##### Best Accuracy: 70%"
   ]
  },
  {
   "cell_type": "code",
   "execution_count": 4,
   "metadata": {},
   "outputs": [],
   "source": [
    "def make_groupings(df_train):\n",
    "    # group the reports by patient and baseline\n",
    "    column_patient = 'Patient ID'\n",
    "    column_baseline = 'Scan timepoint (baseline = prior to treatment start, ontx = during treatment or prior to progression if stopped treatment , progression = time of RECIST defined progression)'\n",
    "    df_train['is_baseline'] = (df_train[column_baseline] == 'baseline')\n",
    "    groupped_df = df_train.groupby([column_patient, 'is_baseline'])['clean_report_text'].apply(lambda x: x.sum())\n",
    "    predictions = df_train.groupby(['Patient ID'])[\"Objective Response per RECIST v1.1\"].first()\n",
    "\n",
    "    # fill missing reports with nothing\n",
    "    for i, v in groupped_df.iteritems():\n",
    "        patient, baseline = i\n",
    "        if (patient, not baseline) not in groupped_df:\n",
    "            groupped_df[(patient, not baseline)] = 'insert random word'\n",
    "\n",
    "    # now create the different dataframes\n",
    "    groupped_df = groupped_df.to_frame().reset_index()\n",
    "    baseline_reports = groupped_df[groupped_df['is_baseline'] == True]\n",
    "    progress_reports = groupped_df[groupped_df['is_baseline'] == False]\n",
    "    return (baseline_reports, progress_reports, predictions)"
   ]
  },
  {
   "cell_type": "code",
   "execution_count": 5,
   "metadata": {},
   "outputs": [],
   "source": [
    "# learn the bag of words representation for both types of df\n",
    "def learn_bow(reports, min_df=1, ngram_range=(1, 3), max_features=5000):\n",
    "    stopwords = ['mm', 'dd', '2017', '2016', '2015', '2014', '2013', '2012', 'date', 'md']\n",
    "    countVec = CountVectorizer(min_df = min_df, \\\n",
    "                               ngram_range = ngram_range, \\\n",
    "                               max_features = max_features, \\\n",
    "                               stop_words = stopwords)\n",
    "    countVec.fit(reports)\n",
    "    return countVec.transform(reports)"
   ]
  },
  {
   "cell_type": "code",
   "execution_count": 6,
   "metadata": {},
   "outputs": [],
   "source": [
    "def prepare_y(data_y):\n",
    "    label_enc = LabelEncoder()\n",
    "    label_enc_y = label_enc.fit(data_y.values)\n",
    "    return label_enc_y.transform(data_y.values.reshape(-1, 1))"
   ]
  },
  {
   "cell_type": "code",
   "execution_count": 7,
   "metadata": {},
   "outputs": [],
   "source": [
    "def train_model_lr(trainX, trainY, C=0.1):\n",
    "    lr = LogisticRegression(C=C, verbose=True, class_weight='balanced')\n",
    "    scores = cross_val_score(lr, trainX, trainY, cv=5)\n",
    "    print(scores)\n",
    "    print(scores.mean())"
   ]
  },
  {
   "cell_type": "code",
   "execution_count": 8,
   "metadata": {},
   "outputs": [],
   "source": [
    "def train_model_mlp(trainX, trainY, hidden_layer_sizes=(5000, 100)):\n",
    "    mlp = MLPClassifier(hidden_layer_sizes=hidden_layer_sizes)\n",
    "    scores = cross_val_score(mlp, trainX, trainY, cv=5)\n",
    "    print(scores)\n",
    "    print(scores.mean())"
   ]
  },
  {
   "cell_type": "code",
   "execution_count": 14,
   "metadata": {},
   "outputs": [],
   "source": [
    "def try_model(df_train, baseline_features=5000, progress_features=5000, C=0.1):\n",
    "    # preprocess dataset\n",
    "    df_train = preprocess(df_train)\n",
    "    # second step of data processing\n",
    "    (baseline_reports, progress_reports, predictions) = make_groupings(df_train)\n",
    "    # find trainX data\n",
    "    baseline_bow = np.array(learn_bow(baseline_reports['clean_report_text'], max_features=baseline_features).todense())\n",
    "    progress_bow = np.array(learn_bow(progress_reports['clean_report_text'], max_features=progress_features).todense())\n",
    "    trainX = np.hstack([baseline_bow, progress_bow])\n",
    "    # find trainY\n",
    "    trainY = prepare_y(predictions)\n",
    "    return (trainX, prepare_y(predictions), C)"
   ]
  },
  {
   "cell_type": "code",
   "execution_count": 10,
   "metadata": {},
   "outputs": [],
   "source": [
    "def make_partial_groupings(df_train):\n",
    "    # group the reports by patient and baseline\n",
    "    column_patient = 'Patient ID'\n",
    "    column_baseline = 'Scan timepoint (baseline = prior to treatment start, ontx = during treatment or prior to progression if stopped treatment , progression = time of RECIST defined progression)'\n",
    "    df_train['is_baseline'] = (df_train[column_baseline] == 'baseline')\n",
    "    groupped_df = df_train.groupby([column_patient, 'is_baseline'])['clean_report_text'].apply(lambda x: x.sum())\n",
    "    predictions = df_train.groupby(['Patient ID'])[\"Objective Response per RECIST v1.1\"].first()\n",
    "\n",
    "    # fill missing reports with nothing\n",
    "    for i, v in groupped_df.iteritems():\n",
    "        patient, baseline = i\n",
    "        if (patient, not baseline) not in groupped_df:\n",
    "            groupped_df[(patient, not baseline)] = 'insert random word'\n",
    "\n",
    "    # now create the different dataframes\n",
    "    groupped_df = groupped_df.to_frame().reset_index()\n",
    "    baseline_reports = groupped_df[groupped_df['is_baseline'] == True]\n",
    "    progress_reports = groupped_df[groupped_df['is_baseline'] == False]\n",
    "    return (baseline_reports, df_train[df_train['is_baseline'] == False], predictions)"
   ]
  },
  {
   "cell_type": "code",
   "execution_count": 11,
   "metadata": {},
   "outputs": [],
   "source": [
    "def try_model3(df_train, baseline_features=1000, progress_features=1000, C=0.1):\n",
    "    # preprocess dataset\n",
    "    df_train = preprocess(df_train)\n",
    "    # second step of data processing\n",
    "    (baseline_reports, progress_reports, predictions) = make_partial_groupings(df_train)\n",
    "    (progress_reports1, progress_reports2, _) = make_groupings_split(progress_reports)\n",
    "    # find trainX data\n",
    "    baseline_bow = np.array(learn_bow(baseline_reports['clean_report_text'], max_features=baseline_features).todense())\n",
    "    progress_bow1 = np.array(learn_bow(progress_reports1['clean_report_text_x'], max_features=progress_features).todense())\n",
    "    progress_bow2 = np.array(learn_bow(progress_reports2['clean_report_text_x'], max_features=progress_features).todense())\n",
    "    trainX = np.hstack([baseline_bow, progress_bow1, progress_bow2])\n",
    "    # find trainY\n",
    "    trainY = prepare_y(predictions)\n",
    "    return (trainX, prepare_y(predictions), C)"
   ]
  },
  {
   "cell_type": "code",
   "execution_count": 15,
   "metadata": {
    "scrolled": true
   },
   "outputs": [
    {
     "name": "stdout",
     "output_type": "stream",
     "text": [
      "[LibLinear][LibLinear][LibLinear][LibLinear][LibLinear][0.71232877 0.73972603 0.60273973 0.73611111 0.7       ]\n",
      "0.6981811263318113\n",
      "[LibLinear][LibLinear][LibLinear][LibLinear][LibLinear][0.71232877 0.73972603 0.60273973 0.73611111 0.7       ]\n",
      "0.6981811263318113\n",
      "[LibLinear][LibLinear][LibLinear][LibLinear][LibLinear][0.71232877 0.73972603 0.63013699 0.73611111 0.7       ]\n",
      "0.7036605783866058\n",
      "[LibLinear][LibLinear][LibLinear][LibLinear][LibLinear][0.71232877 0.73972603 0.63013699 0.73611111 0.7       ]\n",
      "0.7036605783866058\n",
      "[LibLinear][LibLinear][LibLinear][LibLinear][LibLinear][0.69863014 0.75342466 0.65753425 0.75       0.7       ]\n",
      "0.711917808219178\n",
      "[LibLinear][LibLinear][LibLinear][LibLinear][LibLinear][0.69863014 0.73972603 0.67123288 0.76388889 0.71428571]\n",
      "0.7175527288540987\n"
     ]
    }
   ],
   "source": [
    "for _C in [0.1, 0.07, 0.05, 0.03, 0.01, 0.005]:\n",
    "    trainX, trainY, C = try_model(df_train, C = _C)\n",
    "    train_model_lr(trainX, trainY, C = C)"
   ]
  },
  {
   "cell_type": "code",
   "execution_count": 16,
   "metadata": {
    "scrolled": true
   },
   "outputs": [
    {
     "name": "stdout",
     "output_type": "stream",
     "text": [
      "baseline: 800 || progress: 2000 || C: 0.007\n",
      "[LibLinear][LibLinear][LibLinear][LibLinear][LibLinear][0.71232877 0.75342466 0.67123288 0.76388889 0.72857143]\n",
      "0.7258893237660361\n",
      "baseline: 800 || progress: 2000 || C: 0.005\n",
      "[LibLinear][LibLinear][LibLinear][LibLinear][LibLinear][0.71232877 0.75342466 0.67123288 0.75       0.72857143]\n",
      "0.7231115459882583\n",
      "baseline: 800 || progress: 2000 || C: 0.003\n",
      "[LibLinear][LibLinear][LibLinear][LibLinear][LibLinear][0.71232877 0.7260274  0.67123288 0.75       0.74285714]\n",
      "0.7204892367906066\n",
      "baseline: 800 || progress: 2000 || C: 0.002\n",
      "[LibLinear][LibLinear][LibLinear][LibLinear][LibLinear][0.71232877 0.7260274  0.68493151 0.73611111 0.74285714]\n",
      "0.7204511850402262\n",
      "baseline: 800 || progress: 4000 || C: 0.007\n",
      "[LibLinear][LibLinear][LibLinear][LibLinear][LibLinear][0.69863014 0.73972603 0.67123288 0.75       0.74285714]\n",
      "0.7204892367906066\n",
      "baseline: 800 || progress: 4000 || C: 0.005\n",
      "[LibLinear][LibLinear][LibLinear][LibLinear][LibLinear][0.69863014 0.73972603 0.67123288 0.73611111 0.72857143]\n",
      "0.7148543161556861\n",
      "baseline: 800 || progress: 4000 || C: 0.003\n",
      "[LibLinear][LibLinear][LibLinear][LibLinear][LibLinear][0.69863014 0.73972603 0.67123288 0.75       0.74285714]\n",
      "0.7204892367906066\n",
      "baseline: 800 || progress: 4000 || C: 0.002\n",
      "[LibLinear][LibLinear][LibLinear][LibLinear][LibLinear][0.71232877 0.7260274  0.68493151 0.73611111 0.74285714]\n",
      "0.7204511850402262\n",
      "baseline: 1600 || progress: 2000 || C: 0.007\n",
      "[LibLinear][LibLinear][LibLinear][LibLinear][LibLinear][0.71232877 0.75342466 0.67123288 0.76388889 0.7       ]\n",
      "0.7201750380517504\n",
      "baseline: 1600 || progress: 2000 || C: 0.005\n",
      "[LibLinear][LibLinear][LibLinear][LibLinear][LibLinear][0.71232877 0.73972603 0.67123288 0.76388889 0.71428571]\n",
      "0.720292454881496\n",
      "baseline: 1600 || progress: 2000 || C: 0.003\n",
      "[LibLinear][LibLinear][LibLinear][LibLinear][LibLinear][0.71232877 0.7260274  0.67123288 0.75       0.72857143]\n",
      "0.7176320939334638\n",
      "baseline: 1600 || progress: 2000 || C: 0.002\n",
      "[LibLinear][LibLinear][LibLinear][LibLinear][LibLinear][0.71232877 0.71232877 0.68493151 0.73611111 0.72857143]\n",
      "0.7148543161556861\n",
      "baseline: 1600 || progress: 4000 || C: 0.007\n",
      "[LibLinear][LibLinear][LibLinear][LibLinear][LibLinear][0.69863014 0.73972603 0.67123288 0.75       0.71428571]\n",
      "0.7147749510763209\n",
      "baseline: 1600 || progress: 4000 || C: 0.005\n",
      "[LibLinear][LibLinear][LibLinear][LibLinear][LibLinear][0.69863014 0.73972603 0.67123288 0.76388889 0.71428571]\n",
      "0.7175527288540987\n",
      "baseline: 1600 || progress: 4000 || C: 0.003\n",
      "[LibLinear][LibLinear][LibLinear][LibLinear][LibLinear][0.69863014 0.73972603 0.67123288 0.73611111 0.72857143]\n",
      "0.7148543161556861\n",
      "baseline: 1600 || progress: 4000 || C: 0.002\n",
      "[LibLinear][LibLinear][LibLinear][LibLinear][LibLinear][0.7260274  0.73972603 0.67123288 0.73611111 0.72857143]\n",
      "0.7203337682104806\n"
     ]
    }
   ],
   "source": [
    "for baseline_features in [800, 1600]:\n",
    "    for progress_features in [2000, 4000]:\n",
    "        for _C in [0.007, 0.005, 0.003, 0.002]:\n",
    "            print('baseline: ' + str(baseline_features) + ' || progress: ' + str(progress_features) + ' || C: ' + str(_C))\n",
    "            trainX, trainY, C = try_model(df_train, baseline_features=baseline_features, progress_features=progress_features, C = _C)\n",
    "            train_model_lr(trainX, trainY, C = C)"
   ]
  },
  {
   "cell_type": "code",
   "execution_count": 9,
   "metadata": {
    "scrolled": true
   },
   "outputs": [
    {
     "name": "stdout",
     "output_type": "stream",
     "text": [
      "baseline: 500 || progress: 2000\n"
     ]
    },
    {
     "name": "stderr",
     "output_type": "stream",
     "text": [
      "C:\\ProgramData\\Anaconda3\\lib\\site-packages\\sklearn\\preprocessing\\label.py:128: DataConversionWarning: A column-vector y was passed when a 1d array was expected. Please change the shape of y to (n_samples, ), for example using ravel().\n",
      "  y = column_or_1d(y, warn=True)\n"
     ]
    },
    {
     "name": "stdout",
     "output_type": "stream",
     "text": [
      "[0.60273973 0.64383562 0.65753425 0.69444444 0.64788732]\n",
      "0.6492882714858406\n",
      "baseline: 500 || progress: 4000\n"
     ]
    },
    {
     "name": "stderr",
     "output_type": "stream",
     "text": [
      "C:\\ProgramData\\Anaconda3\\lib\\site-packages\\sklearn\\preprocessing\\label.py:128: DataConversionWarning: A column-vector y was passed when a 1d array was expected. Please change the shape of y to (n_samples, ), for example using ravel().\n",
      "  y = column_or_1d(y, warn=True)\n"
     ]
    },
    {
     "name": "stdout",
     "output_type": "stream",
     "text": [
      "[0.69863014 0.71232877 0.63013699 0.68055556 0.69014085]\n",
      "0.6823584582073873\n",
      "baseline: 1000 || progress: 2000\n"
     ]
    },
    {
     "name": "stderr",
     "output_type": "stream",
     "text": [
      "C:\\ProgramData\\Anaconda3\\lib\\site-packages\\sklearn\\preprocessing\\label.py:128: DataConversionWarning: A column-vector y was passed when a 1d array was expected. Please change the shape of y to (n_samples, ), for example using ravel().\n",
      "  y = column_or_1d(y, warn=True)\n"
     ]
    },
    {
     "name": "stdout",
     "output_type": "stream",
     "text": [
      "[0.60273973 0.65753425 0.65753425 0.70833333 0.67605634]\n",
      "0.6604395781079169\n",
      "baseline: 1000 || progress: 4000\n"
     ]
    },
    {
     "name": "stderr",
     "output_type": "stream",
     "text": [
      "C:\\ProgramData\\Anaconda3\\lib\\site-packages\\sklearn\\preprocessing\\label.py:128: DataConversionWarning: A column-vector y was passed when a 1d array was expected. Please change the shape of y to (n_samples, ), for example using ravel().\n",
      "  y = column_or_1d(y, warn=True)\n"
     ]
    },
    {
     "name": "stdout",
     "output_type": "stream",
     "text": [
      "[0.60273973 0.65753425 0.60273973 0.72222222 0.70422535]\n",
      "0.657892254593007\n"
     ]
    }
   ],
   "source": [
    "for baseline_features in [500, 1000]:\n",
    "    for progress_features in [2000, 4000]:\n",
    "        print('baseline: ' + str(baseline_features) + ' || progress: ' + str(progress_features))\n",
    "        trainX, trainY, C = try_model(df_train, baseline_features=baseline_features, progress_features=progress_features)\n",
    "        train_model_mlp(trainX, trainY, \\\n",
    "                        hidden_layer_sizes=((baseline_features+progress_features)//7, (baseline_features+progress_features)//100))"
   ]
  },
  {
   "cell_type": "markdown",
   "metadata": {},
   "source": [
    "### Split around the middle\n",
    "\n",
    "##### Best Accuracy: 59%"
   ]
  },
  {
   "cell_type": "code",
   "execution_count": 10,
   "metadata": {},
   "outputs": [],
   "source": [
    "# reading and preprocessing the data\n",
    "df_train = pd.read_csv('urop_dataset_training.csv')\n",
    "df_validation = pd.read_csv('urop_dataset_validation.csv')"
   ]
  },
  {
   "cell_type": "code",
   "execution_count": 54,
   "metadata": {},
   "outputs": [],
   "source": [
    "def make_groupings_split(df_train):\n",
    "    # do some magic here\n",
    "    df_train['same_patient'] = df_train['Patient ID'].eq(df_train['Patient ID'].shift())\n",
    "    df_train['report number'] = df_train['same_patient'].cumsum()\n",
    "    df_train['same_patient'] = df_train['same_patient'].apply(lambda x: np.nan if x == 0 else  x)\n",
    "    v = df_train['same_patient']\n",
    "    cumsum = v.cumsum().fillna(method='pad')\n",
    "    reset = -cumsum[v.isnull()].diff().fillna(cumsum)\n",
    "    df_train['same_patient'] = v.where(v.notnull(), reset).cumsum()\n",
    "    df_train['same_patient'].values[0] = 0\n",
    "    df_groupped = df_train.groupby(['Patient ID'])[\"clean_report_text\"].count()\n",
    "    df_groupped = df_groupped.to_frame().reset_index()\n",
    "    result = pd.merge(df_train, df_groupped, how='left', on=['Patient ID'])\n",
    "    # end of magic\n",
    "    \n",
    "    # baseline has the half first of the reports\n",
    "    # and progress has the other half\n",
    "    column_patient = 'Patient ID'\n",
    "    result['splitting_category'] = result['same_patient'] < result['clean_report_text_y']//2\n",
    "    groupped_df = result.groupby([column_patient, 'splitting_category'])['clean_report_text_x'].apply(lambda x: x.sum())\n",
    "    predictions = result.groupby(['Patient ID'])[\"Objective Response per RECIST v1.1\"].first()\n",
    "    \n",
    "    # fill missing reports with nothing\n",
    "    for i, v in groupped_df.iteritems():\n",
    "        patient, category = i\n",
    "        if (patient, not category) not in groupped_df:\n",
    "            groupped_df[(patient, not category)] = 'insert random word'\n",
    "    \n",
    "    # now create the different dataframes\n",
    "    groupped_df = groupped_df.to_frame().reset_index()\n",
    "    baseline_reports = groupped_df[groupped_df['splitting_category'] == True]\n",
    "    progress_reports = groupped_df[groupped_df['splitting_category'] == False]\n",
    "    return (baseline_reports, progress_reports, predictions)"
   ]
  },
  {
   "cell_type": "code",
   "execution_count": 30,
   "metadata": {},
   "outputs": [],
   "source": [
    "def try_model_split(df_train, baseline_features=5000, progress_features=5000, C=0.1):\n",
    "    # preprocess dataset\n",
    "    df_train = preprocess(df_train)\n",
    "    # second step of data processing\n",
    "    (baseline_reports, progress_reports, predictions) = make_groupings_split(df_train)\n",
    "    \n",
    "    # find trainX data\n",
    "    baseline_bow = np.array(learn_bow(baseline_reports['clean_report_text'], max_features=baseline_features).todense())\n",
    "    progress_bow = np.array(learn_bow(progress_reports['clean_report_text'], max_features=progress_features).todense())\n",
    "    trainX = np.hstack([baseline_bow, progress_bow])\n",
    "    # find trainY\n",
    "    trainY = prepare_y(predictions)\n",
    "    return (trainX, prepare_y(predictions), C)"
   ]
  },
  {
   "cell_type": "code",
   "execution_count": 40,
   "metadata": {
    "scrolled": true
   },
   "outputs": [
    {
     "name": "stderr",
     "output_type": "stream",
     "text": [
      "C:\\ProgramData\\Anaconda3\\lib\\site-packages\\sklearn\\preprocessing\\label.py:128: DataConversionWarning: A column-vector y was passed when a 1d array was expected. Please change the shape of y to (n_samples, ), for example using ravel().\n",
      "  y = column_or_1d(y, warn=True)\n"
     ]
    },
    {
     "name": "stdout",
     "output_type": "stream",
     "text": [
      "[LibLinear][LibLinear][LibLinear][LibLinear][LibLinear][0.43835616 0.53424658 0.50684932 0.52777778 0.58571429]\n",
      "0.5185888236573168\n"
     ]
    },
    {
     "name": "stderr",
     "output_type": "stream",
     "text": [
      "C:\\ProgramData\\Anaconda3\\lib\\site-packages\\sklearn\\preprocessing\\label.py:128: DataConversionWarning: A column-vector y was passed when a 1d array was expected. Please change the shape of y to (n_samples, ), for example using ravel().\n",
      "  y = column_or_1d(y, warn=True)\n"
     ]
    },
    {
     "name": "stdout",
     "output_type": "stream",
     "text": [
      "[LibLinear][LibLinear][LibLinear][LibLinear][LibLinear][0.45205479 0.52054795 0.53424658 0.52777778 0.57142857]\n",
      "0.5212111328549683\n"
     ]
    },
    {
     "name": "stderr",
     "output_type": "stream",
     "text": [
      "C:\\ProgramData\\Anaconda3\\lib\\site-packages\\sklearn\\preprocessing\\label.py:128: DataConversionWarning: A column-vector y was passed when a 1d array was expected. Please change the shape of y to (n_samples, ), for example using ravel().\n",
      "  y = column_or_1d(y, warn=True)\n"
     ]
    },
    {
     "name": "stdout",
     "output_type": "stream",
     "text": [
      "[LibLinear][LibLinear][LibLinear][LibLinear][LibLinear][0.46575342 0.50684932 0.57534247 0.52777778 0.55714286]\n",
      "0.5265731680800174\n"
     ]
    },
    {
     "name": "stderr",
     "output_type": "stream",
     "text": [
      "C:\\ProgramData\\Anaconda3\\lib\\site-packages\\sklearn\\preprocessing\\label.py:128: DataConversionWarning: A column-vector y was passed when a 1d array was expected. Please change the shape of y to (n_samples, ), for example using ravel().\n",
      "  y = column_or_1d(y, warn=True)\n"
     ]
    },
    {
     "name": "stdout",
     "output_type": "stream",
     "text": [
      "[LibLinear][LibLinear][LibLinear][LibLinear][LibLinear][0.47945205 0.49315068 0.57534247 0.52777778 0.55714286]\n",
      "0.5265731680800174\n"
     ]
    },
    {
     "name": "stderr",
     "output_type": "stream",
     "text": [
      "C:\\ProgramData\\Anaconda3\\lib\\site-packages\\sklearn\\preprocessing\\label.py:128: DataConversionWarning: A column-vector y was passed when a 1d array was expected. Please change the shape of y to (n_samples, ), for example using ravel().\n",
      "  y = column_or_1d(y, warn=True)\n"
     ]
    },
    {
     "name": "stdout",
     "output_type": "stream",
     "text": [
      "[LibLinear][LibLinear][LibLinear][LibLinear][LibLinear][0.49315068 0.49315068 0.56164384 0.51388889 0.51428571]\n",
      "0.515223961730811\n"
     ]
    }
   ],
   "source": [
    "for _C in [0.03, 0.01, 0.007, 0.005, 0.003]:\n",
    "    trainX, trainY, C = try_model_split4(df_train, C = _C)\n",
    "    train_model_lr(trainX, trainY, C = C)"
   ]
  },
  {
   "cell_type": "code",
   "execution_count": 15,
   "metadata": {
    "scrolled": true
   },
   "outputs": [
    {
     "name": "stdout",
     "output_type": "stream",
     "text": [
      "baseline: 800 || progress: 3000 || C: 0.01\n"
     ]
    },
    {
     "name": "stderr",
     "output_type": "stream",
     "text": [
      "C:\\ProgramData\\Anaconda3\\lib\\site-packages\\sklearn\\preprocessing\\label.py:128: DataConversionWarning: A column-vector y was passed when a 1d array was expected. Please change the shape of y to (n_samples, ), for example using ravel().\n",
      "  y = column_or_1d(y, warn=True)\n"
     ]
    },
    {
     "name": "stdout",
     "output_type": "stream",
     "text": [
      "[LibLinear][LibLinear][LibLinear][LibLinear][LibLinear][0.57534247 0.65753425 0.64383562 0.58333333 0.68571429]\n",
      "0.6291519895629485\n",
      "baseline: 800 || progress: 3000 || C: 0.007\n"
     ]
    },
    {
     "name": "stderr",
     "output_type": "stream",
     "text": [
      "C:\\ProgramData\\Anaconda3\\lib\\site-packages\\sklearn\\preprocessing\\label.py:128: DataConversionWarning: A column-vector y was passed when a 1d array was expected. Please change the shape of y to (n_samples, ), for example using ravel().\n",
      "  y = column_or_1d(y, warn=True)\n"
     ]
    },
    {
     "name": "stdout",
     "output_type": "stream",
     "text": [
      "[LibLinear][LibLinear][LibLinear][LibLinear][LibLinear][0.54794521 0.67123288 0.64383562 0.58333333 0.7       ]\n",
      "0.6292694063926941\n",
      "baseline: 800 || progress: 3000 || C: 0.005\n"
     ]
    },
    {
     "name": "stderr",
     "output_type": "stream",
     "text": [
      "C:\\ProgramData\\Anaconda3\\lib\\site-packages\\sklearn\\preprocessing\\label.py:128: DataConversionWarning: A column-vector y was passed when a 1d array was expected. Please change the shape of y to (n_samples, ), for example using ravel().\n",
      "  y = column_or_1d(y, warn=True)\n"
     ]
    },
    {
     "name": "stdout",
     "output_type": "stream",
     "text": [
      "[LibLinear][LibLinear][LibLinear][LibLinear][LibLinear][0.56164384 0.68493151 0.64383562 0.59722222 0.7       ]\n",
      "0.6375266362252663\n",
      "baseline: 800 || progress: 3000 || C: 0.003\n"
     ]
    },
    {
     "name": "stderr",
     "output_type": "stream",
     "text": [
      "C:\\ProgramData\\Anaconda3\\lib\\site-packages\\sklearn\\preprocessing\\label.py:128: DataConversionWarning: A column-vector y was passed when a 1d array was expected. Please change the shape of y to (n_samples, ), for example using ravel().\n",
      "  y = column_or_1d(y, warn=True)\n"
     ]
    },
    {
     "name": "stdout",
     "output_type": "stream",
     "text": [
      "[LibLinear][LibLinear][LibLinear][LibLinear][LibLinear][0.56164384 0.67123288 0.64383562 0.58333333 0.7       ]\n",
      "0.6320091324200913\n",
      "baseline: 800 || progress: 5000 || C: 0.01\n"
     ]
    },
    {
     "name": "stderr",
     "output_type": "stream",
     "text": [
      "C:\\ProgramData\\Anaconda3\\lib\\site-packages\\sklearn\\preprocessing\\label.py:128: DataConversionWarning: A column-vector y was passed when a 1d array was expected. Please change the shape of y to (n_samples, ), for example using ravel().\n",
      "  y = column_or_1d(y, warn=True)\n"
     ]
    },
    {
     "name": "stdout",
     "output_type": "stream",
     "text": [
      "[LibLinear][LibLinear][LibLinear][LibLinear][LibLinear][0.56164384 0.65753425 0.64383562 0.59722222 0.68571429]\n",
      "0.6291900413133289\n",
      "baseline: 800 || progress: 5000 || C: 0.007\n"
     ]
    },
    {
     "name": "stderr",
     "output_type": "stream",
     "text": [
      "C:\\ProgramData\\Anaconda3\\lib\\site-packages\\sklearn\\preprocessing\\label.py:128: DataConversionWarning: A column-vector y was passed when a 1d array was expected. Please change the shape of y to (n_samples, ), for example using ravel().\n",
      "  y = column_or_1d(y, warn=True)\n"
     ]
    },
    {
     "name": "stdout",
     "output_type": "stream",
     "text": [
      "[LibLinear][LibLinear][LibLinear][LibLinear][LibLinear][0.56164384 0.68493151 0.64383562 0.59722222 0.7       ]\n",
      "0.6375266362252663\n",
      "baseline: 800 || progress: 5000 || C: 0.005\n"
     ]
    },
    {
     "name": "stderr",
     "output_type": "stream",
     "text": [
      "C:\\ProgramData\\Anaconda3\\lib\\site-packages\\sklearn\\preprocessing\\label.py:128: DataConversionWarning: A column-vector y was passed when a 1d array was expected. Please change the shape of y to (n_samples, ), for example using ravel().\n",
      "  y = column_or_1d(y, warn=True)\n"
     ]
    },
    {
     "name": "stdout",
     "output_type": "stream",
     "text": [
      "[LibLinear][LibLinear][LibLinear][LibLinear][LibLinear][0.56164384 0.67123288 0.67123288 0.58333333 0.71428571]\n",
      "0.6403457273320288\n",
      "baseline: 800 || progress: 5000 || C: 0.003\n"
     ]
    },
    {
     "name": "stderr",
     "output_type": "stream",
     "text": [
      "C:\\ProgramData\\Anaconda3\\lib\\site-packages\\sklearn\\preprocessing\\label.py:128: DataConversionWarning: A column-vector y was passed when a 1d array was expected. Please change the shape of y to (n_samples, ), for example using ravel().\n",
      "  y = column_or_1d(y, warn=True)\n"
     ]
    },
    {
     "name": "stdout",
     "output_type": "stream",
     "text": [
      "[LibLinear][LibLinear][LibLinear][LibLinear][LibLinear][0.56164384 0.67123288 0.67123288 0.58333333 0.68571429]\n",
      "0.634631441617743\n",
      "baseline: 2000 || progress: 3000 || C: 0.01\n"
     ]
    },
    {
     "name": "stderr",
     "output_type": "stream",
     "text": [
      "C:\\ProgramData\\Anaconda3\\lib\\site-packages\\sklearn\\preprocessing\\label.py:128: DataConversionWarning: A column-vector y was passed when a 1d array was expected. Please change the shape of y to (n_samples, ), for example using ravel().\n",
      "  y = column_or_1d(y, warn=True)\n"
     ]
    },
    {
     "name": "stdout",
     "output_type": "stream",
     "text": [
      "[LibLinear][LibLinear][LibLinear][LibLinear][LibLinear][0.57534247 0.64383562 0.63013699 0.55555556 0.67142857]\n",
      "0.6152598390954555\n",
      "baseline: 2000 || progress: 3000 || C: 0.007\n"
     ]
    },
    {
     "name": "stderr",
     "output_type": "stream",
     "text": [
      "C:\\ProgramData\\Anaconda3\\lib\\site-packages\\sklearn\\preprocessing\\label.py:128: DataConversionWarning: A column-vector y was passed when a 1d array was expected. Please change the shape of y to (n_samples, ), for example using ravel().\n",
      "  y = column_or_1d(y, warn=True)\n"
     ]
    },
    {
     "name": "stdout",
     "output_type": "stream",
     "text": [
      "[LibLinear][LibLinear][LibLinear][LibLinear][LibLinear][0.5890411  0.65753425 0.63013699 0.56944444 0.67142857]\n",
      "0.6235170689280278\n",
      "baseline: 2000 || progress: 3000 || C: 0.005\n"
     ]
    },
    {
     "name": "stderr",
     "output_type": "stream",
     "text": [
      "C:\\ProgramData\\Anaconda3\\lib\\site-packages\\sklearn\\preprocessing\\label.py:128: DataConversionWarning: A column-vector y was passed when a 1d array was expected. Please change the shape of y to (n_samples, ), for example using ravel().\n",
      "  y = column_or_1d(y, warn=True)\n"
     ]
    },
    {
     "name": "stdout",
     "output_type": "stream",
     "text": [
      "[LibLinear][LibLinear][LibLinear][LibLinear][LibLinear][0.54794521 0.65753425 0.63013699 0.58333333 0.68571429]\n",
      "0.6209328114807567\n",
      "baseline: 2000 || progress: 3000 || C: 0.003\n"
     ]
    },
    {
     "name": "stderr",
     "output_type": "stream",
     "text": [
      "C:\\ProgramData\\Anaconda3\\lib\\site-packages\\sklearn\\preprocessing\\label.py:128: DataConversionWarning: A column-vector y was passed when a 1d array was expected. Please change the shape of y to (n_samples, ), for example using ravel().\n",
      "  y = column_or_1d(y, warn=True)\n"
     ]
    },
    {
     "name": "stdout",
     "output_type": "stream",
     "text": [
      "[LibLinear][LibLinear][LibLinear][LibLinear][LibLinear][0.56164384 0.67123288 0.67123288 0.56944444 0.68571429]\n",
      "0.6318536638399653\n",
      "baseline: 2000 || progress: 5000 || C: 0.01\n"
     ]
    },
    {
     "name": "stderr",
     "output_type": "stream",
     "text": [
      "C:\\ProgramData\\Anaconda3\\lib\\site-packages\\sklearn\\preprocessing\\label.py:128: DataConversionWarning: A column-vector y was passed when a 1d array was expected. Please change the shape of y to (n_samples, ), for example using ravel().\n",
      "  y = column_or_1d(y, warn=True)\n"
     ]
    },
    {
     "name": "stdout",
     "output_type": "stream",
     "text": [
      "[LibLinear][LibLinear][LibLinear][LibLinear][LibLinear][0.57534247 0.65753425 0.64383562 0.55555556 0.67142857]\n",
      "0.62073929115025\n",
      "baseline: 2000 || progress: 5000 || C: 0.007\n"
     ]
    },
    {
     "name": "stderr",
     "output_type": "stream",
     "text": [
      "C:\\ProgramData\\Anaconda3\\lib\\site-packages\\sklearn\\preprocessing\\label.py:128: DataConversionWarning: A column-vector y was passed when a 1d array was expected. Please change the shape of y to (n_samples, ), for example using ravel().\n",
      "  y = column_or_1d(y, warn=True)\n"
     ]
    },
    {
     "name": "stdout",
     "output_type": "stream",
     "text": [
      "[LibLinear][LibLinear][LibLinear][LibLinear][LibLinear][0.56164384 0.67123288 0.64383562 0.56944444 0.67142857]\n",
      "0.6235170689280278\n",
      "baseline: 2000 || progress: 5000 || C: 0.005\n"
     ]
    },
    {
     "name": "stderr",
     "output_type": "stream",
     "text": [
      "C:\\ProgramData\\Anaconda3\\lib\\site-packages\\sklearn\\preprocessing\\label.py:128: DataConversionWarning: A column-vector y was passed when a 1d array was expected. Please change the shape of y to (n_samples, ), for example using ravel().\n",
      "  y = column_or_1d(y, warn=True)\n"
     ]
    },
    {
     "name": "stdout",
     "output_type": "stream",
     "text": [
      "[LibLinear][LibLinear][LibLinear][LibLinear][LibLinear][0.56164384 0.65753425 0.64383562 0.58333333 0.68571429]\n",
      "0.6264122635355512\n",
      "baseline: 2000 || progress: 5000 || C: 0.003\n"
     ]
    },
    {
     "name": "stderr",
     "output_type": "stream",
     "text": [
      "C:\\ProgramData\\Anaconda3\\lib\\site-packages\\sklearn\\preprocessing\\label.py:128: DataConversionWarning: A column-vector y was passed when a 1d array was expected. Please change the shape of y to (n_samples, ), for example using ravel().\n",
      "  y = column_or_1d(y, warn=True)\n"
     ]
    },
    {
     "name": "stdout",
     "output_type": "stream",
     "text": [
      "[LibLinear][LibLinear][LibLinear][LibLinear][LibLinear][0.54794521 0.67123288 0.67123288 0.56944444 0.68571429]\n",
      "0.629113937812568\n"
     ]
    }
   ],
   "source": [
    "for baseline_features in [800, 2000]:\n",
    "    for progress_features in [3000, 5000]:\n",
    "        for _C in [0.01, 0.007, 0.005, 0.003]:\n",
    "            print('baseline: ' + str(baseline_features) + ' || progress: ' + str(progress_features) + ' || C: ' + str(_C))\n",
    "            trainX, trainY, C = try_model_split(df_train, baseline_features=baseline_features, progress_features=progress_features, C = _C)\n",
    "            train_model_lr(trainX, trainY, C = C)"
   ]
  },
  {
   "cell_type": "code",
   "execution_count": 17,
   "metadata": {},
   "outputs": [
    {
     "name": "stdout",
     "output_type": "stream",
     "text": [
      "baseline: 500 || progress: 2000\n"
     ]
    },
    {
     "name": "stderr",
     "output_type": "stream",
     "text": [
      "C:\\ProgramData\\Anaconda3\\lib\\site-packages\\sklearn\\preprocessing\\label.py:128: DataConversionWarning: A column-vector y was passed when a 1d array was expected. Please change the shape of y to (n_samples, ), for example using ravel().\n",
      "  y = column_or_1d(y, warn=True)\n"
     ]
    },
    {
     "name": "stdout",
     "output_type": "stream",
     "text": [
      "[0.54794521 0.60273973 0.57534247 0.63888889 0.65714286]\n",
      "0.6044118286584039\n",
      "baseline: 500 || progress: 4000\n"
     ]
    },
    {
     "name": "stderr",
     "output_type": "stream",
     "text": [
      "C:\\ProgramData\\Anaconda3\\lib\\site-packages\\sklearn\\preprocessing\\label.py:128: DataConversionWarning: A column-vector y was passed when a 1d array was expected. Please change the shape of y to (n_samples, ), for example using ravel().\n",
      "  y = column_or_1d(y, warn=True)\n"
     ]
    },
    {
     "name": "stdout",
     "output_type": "stream",
     "text": [
      "[0.56164384 0.60273973 0.5890411  0.56944444 0.67142857]\n",
      "0.5988595346814525\n",
      "baseline: 1000 || progress: 2000\n"
     ]
    },
    {
     "name": "stderr",
     "output_type": "stream",
     "text": [
      "C:\\ProgramData\\Anaconda3\\lib\\site-packages\\sklearn\\preprocessing\\label.py:128: DataConversionWarning: A column-vector y was passed when a 1d array was expected. Please change the shape of y to (n_samples, ), for example using ravel().\n",
      "  y = column_or_1d(y, warn=True)\n"
     ]
    },
    {
     "name": "stdout",
     "output_type": "stream",
     "text": [
      "[0.57534247 0.57534247 0.64383562 0.625      0.7       ]\n",
      "0.6239041095890411\n",
      "baseline: 1000 || progress: 4000\n"
     ]
    },
    {
     "name": "stderr",
     "output_type": "stream",
     "text": [
      "C:\\ProgramData\\Anaconda3\\lib\\site-packages\\sklearn\\preprocessing\\label.py:128: DataConversionWarning: A column-vector y was passed when a 1d array was expected. Please change the shape of y to (n_samples, ), for example using ravel().\n",
      "  y = column_or_1d(y, warn=True)\n"
     ]
    },
    {
     "name": "stdout",
     "output_type": "stream",
     "text": [
      "[0.53424658 0.60273973 0.65753425 0.59722222 0.62857143]\n",
      "0.6040628397477713\n"
     ]
    }
   ],
   "source": [
    "for baseline_features in [500, 1000]:\n",
    "    for progress_features in [2000, 4000]:\n",
    "        print('baseline: ' + str(baseline_features) + ' || progress: ' + str(progress_features))\n",
    "        trainX, trainY, C = try_model_split(df_train, baseline_features=baseline_features, progress_features=progress_features)\n",
    "        train_model_mlp(trainX, trainY, \\\n",
    "                        hidden_layer_sizes=((baseline_features+progress_features)//7, (baseline_features+progress_features)//100))"
   ]
  },
  {
   "cell_type": "markdown",
   "metadata": {},
   "source": []
  }
 ],
 "metadata": {
  "kernelspec": {
   "display_name": "Python 3",
   "language": "python",
   "name": "python3"
  },
  "language_info": {
   "codemirror_mode": {
    "name": "ipython",
    "version": 3
   },
   "file_extension": ".py",
   "mimetype": "text/x-python",
   "name": "python",
   "nbconvert_exporter": "python",
   "pygments_lexer": "ipython3",
   "version": "3.6.5"
  }
 },
 "nbformat": 4,
 "nbformat_minor": 2
}
