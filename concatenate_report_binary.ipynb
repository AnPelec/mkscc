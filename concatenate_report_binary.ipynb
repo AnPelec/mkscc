{
 "cells": [
  {
   "cell_type": "code",
   "execution_count": 1,
   "metadata": {},
   "outputs": [],
   "source": [
    "import re\n",
    "import numpy as np\n",
    "import pandas as pd\n",
    "from datetime import datetime\n",
    "from sklearn.metrics import confusion_matrix, f1_score\n",
    "from sklearn.preprocessing import LabelEncoder\n",
    "from sklearn.preprocessing import OneHotEncoder\n",
    "from sklearn.linear_model import LogisticRegression\n",
    "from sklearn.model_selection import cross_val_predict\n",
    "from sklearn.model_selection import cross_val_score\n",
    "from sklearn.model_selection import train_test_split\n",
    "from sklearn.ensemble import GradientBoostingClassifier\n",
    "from sklearn.feature_extraction.text import CountVectorizer"
   ]
  },
  {
   "cell_type": "code",
   "execution_count": 2,
   "metadata": {},
   "outputs": [],
   "source": [
    "df_train = pd.read_csv('urop_dataset_training.csv')\n",
    "df_validation = pd.read_csv('urop_dataset_validation.csv')"
   ]
  },
  {
   "cell_type": "code",
   "execution_count": 3,
   "metadata": {},
   "outputs": [],
   "source": [
    "def make_POD(curr):\n",
    "    if curr == \"POD/brain\" or curr == \"SD\":\n",
    "        return \"POD\"\n",
    "    if curr == \"CR\":\n",
    "        return \"PR\"\n",
    "    return curr"
   ]
  },
  {
   "cell_type": "code",
   "execution_count": 4,
   "metadata": {},
   "outputs": [],
   "source": [
    "# this field is the class we're trying to predict and hence we have to strip any whitespaces from it\n",
    "df_train[\"Objective Response per RECIST v1.1\"] = df_train[\"Objective Response per RECIST v1.1\"].apply(lambda x: make_POD(x.strip()))"
   ]
  },
  {
   "cell_type": "code",
   "execution_count": 5,
   "metadata": {},
   "outputs": [],
   "source": [
    "# cleaning scan report text\n",
    "df_train[\"clean_report_text\"] = df_train[\"Scan report text\"].apply(lambda text: re.sub('\\W+', ' ', text).lower().strip() + str(' '))"
   ]
  },
  {
   "cell_type": "code",
   "execution_count": 6,
   "metadata": {},
   "outputs": [],
   "source": [
    "temp_df = df_train.groupby(['Patient ID'])['clean_report_text'].apply(lambda x: x.sum())\n",
    "temp_labels = df_train.groupby(['Patient ID'])[\"Objective Response per RECIST v1.1\"].first()"
   ]
  },
  {
   "cell_type": "code",
   "execution_count": 7,
   "metadata": {},
   "outputs": [
    {
     "data": {
      "text/plain": [
       "(362,)"
      ]
     },
     "execution_count": 7,
     "metadata": {},
     "output_type": "execute_result"
    }
   ],
   "source": [
    "temp_labels.shape\n",
    "temp_df.shape"
   ]
  },
  {
   "cell_type": "code",
   "execution_count": 29,
   "metadata": {},
   "outputs": [],
   "source": [
    "text_train_X = temp_df\n",
    "text_train_y = temp_labels\n",
    "min_df = 1\n",
    "ngram_range = (1, 3)\n",
    "max_features = 600000\n",
    "label_enc = LabelEncoder()\n",
    "enc = OneHotEncoder()\n",
    "stopwords = ['mm', 'dd', '2017', '2016', '2015', '2014', '2013', '2012', 'date', 'md']\n",
    "countVec = CountVectorizer(min_df = min_df, max_df = max_df, ngram_range = ngram_range, max_features = max_features, stop_words = stopwords)\n",
    "# Learn vocabulary from train set\n",
    "countVec.fit(text_train_X)\n",
    "# Transform list of review to matrix of bag-of-word vectors\n",
    "trainX = countVec.transform(text_train_X)"
   ]
  },
  {
   "cell_type": "code",
   "execution_count": 10,
   "metadata": {},
   "outputs": [
    {
     "name": "stderr",
     "output_type": "stream",
     "text": [
      "C:\\ProgramData\\Anaconda3\\lib\\site-packages\\sklearn\\preprocessing\\label.py:128: DataConversionWarning: A column-vector y was passed when a 1d array was expected. Please change the shape of y to (n_samples, ), for example using ravel().\n",
      "  y = column_or_1d(y, warn=True)\n"
     ]
    }
   ],
   "source": [
    "label_enc_y = label_enc.fit(text_train_y.values)\n",
    "trainY = label_enc_y.transform(text_train_y.values.reshape(-1, 1))"
   ]
  },
  {
   "cell_type": "code",
   "execution_count": 31,
   "metadata": {},
   "outputs": [
    {
     "name": "stdout",
     "output_type": "stream",
     "text": [
      "[LibLinear][LibLinear][LibLinear][LibLinear][LibLinear][0.82191781 0.83561644 0.83561644 0.80555556 0.84507042]\n",
      "0.8287553326044547\n"
     ]
    }
   ],
   "source": [
    "lr = LogisticRegression(C=.3, verbose=True, class_weight='balanced')\n",
    "scores = cross_val_score(lr, trainX, trainY, cv=5)\n",
    "print(scores)\n",
    "print(scores.mean())"
   ]
  },
  {
   "cell_type": "code",
   "execution_count": 32,
   "metadata": {},
   "outputs": [
    {
     "data": {
      "text/plain": [
       "array(['POD', 'PR'], dtype=object)"
      ]
     },
     "execution_count": 32,
     "metadata": {},
     "output_type": "execute_result"
    }
   ],
   "source": [
    "label_enc_y.classes_"
   ]
  },
  {
   "cell_type": "code",
   "execution_count": null,
   "metadata": {},
   "outputs": [],
   "source": [
    "y_pred = cross_val_predict(lr, trainX, trainY, cv=5)\n",
    "conf_mat = confusion_matrix(trainY ,y_pred)\n",
    "f1_score(trainY, y_pred, average='macro')"
   ]
  },
  {
   "cell_type": "code",
   "execution_count": null,
   "metadata": {},
   "outputs": [],
   "source": [
    "lr = LogisticRegression(C=0.01, verbose=True)\n",
    "scores = cross_val_score(lr, trainX, trainY, cv=5)\n",
    "print(scores)\n",
    "print(scores.mean())"
   ]
  },
  {
   "cell_type": "code",
   "execution_count": null,
   "metadata": {},
   "outputs": [],
   "source": [
    "lr = LogisticRegression(C=0.05, verbose=True, class_weight='balanced')\n",
    "scores = cross_val_score(lr, trainX, trainY, cv=5)\n",
    "print(scores)\n",
    "print(scores.mean())"
   ]
  },
  {
   "cell_type": "code",
   "execution_count": null,
   "metadata": {},
   "outputs": [],
   "source": [
    "lr = LogisticRegression(C=0.005, verbose=True)\n",
    "scores = cross_val_score(lr, trainX, trainY, cv=5)\n",
    "print(scores)\n",
    "print(scores.mean())"
   ]
  },
  {
   "cell_type": "code",
   "execution_count": 8,
   "metadata": {},
   "outputs": [],
   "source": [
    "text_train_X = temp_df\n",
    "text_train_y = temp_labels\n",
    "min_df = 1\n",
    "ngram_range = (1, 5)\n",
    "max_features = 600000\n",
    "label_enc = LabelEncoder()\n",
    "enc = OneHotEncoder()\n",
    "countVec = CountVectorizer(min_df = min_df, ngram_range = ngram_range, max_features = max_features)\n",
    "# Learn vocabulary from train set\n",
    "countVec.fit(text_train_X)\n",
    "# Transform list of review to matrix of bag-of-word vectors\n",
    "trainX = countVec.transform(text_train_X)"
   ]
  },
  {
   "cell_type": "code",
   "execution_count": null,
   "metadata": {},
   "outputs": [],
   "source": [
    "lr = LogisticRegression(C=0.05, verbose=True, class_weight='balanced')\n",
    "scores = cross_val_score(lr, trainX, trainY, cv=5)\n",
    "print(scores)\n",
    "print(scores.mean())"
   ]
  },
  {
   "cell_type": "code",
   "execution_count": null,
   "metadata": {},
   "outputs": [],
   "source": [
    "lr = LogisticRegression(C=0.005, verbose=True, class_weight='balanced')\n",
    "scores = cross_val_score(lr, trainX, trainY, cv=5)\n",
    "print(scores)\n",
    "print(scores.mean())"
   ]
  },
  {
   "cell_type": "code",
   "execution_count": null,
   "metadata": {},
   "outputs": [],
   "source": [
    "lr = LogisticRegression(C=0.0005, verbose=True, class_weight='balanced')\n",
    "scores = cross_val_score(lr, trainX, trainY, cv=5)\n",
    "print(scores)\n",
    "print(scores.mean())"
   ]
  },
  {
   "cell_type": "code",
   "execution_count": 11,
   "metadata": {},
   "outputs": [],
   "source": [
    "X_train, X_test, y_train, y_test = train_test_split(trainX, trainY, test_size=0.2, random_state=42)"
   ]
  },
  {
   "cell_type": "code",
   "execution_count": null,
   "metadata": {},
   "outputs": [],
   "source": [
    "lr = LogisticRegression(C=0.000005)\n",
    "lr.fit(X_train, y_train)\n",
    "print(lr.score(X_train, y_train))\n",
    "print(lr.score(X_test, y_test))"
   ]
  },
  {
   "cell_type": "code",
   "execution_count": null,
   "metadata": {},
   "outputs": [],
   "source": [
    "lr = LogisticRegression(C=0.00005)\n",
    "lr.fit(X_train, y_train)\n",
    "print(lr.score(X_train, y_train))\n",
    "print(lr.score(X_test, y_test))"
   ]
  },
  {
   "cell_type": "code",
   "execution_count": 12,
   "metadata": {},
   "outputs": [
    {
     "name": "stdout",
     "output_type": "stream",
     "text": [
      "0.8442906574394463\n",
      "0.8356164383561644\n"
     ]
    }
   ],
   "source": [
    "lr = LogisticRegression(C=0.0000113)\n",
    "lr.fit(X_train, y_train)\n",
    "print(lr.score(X_train, y_train))\n",
    "print(lr.score(X_test, y_test))"
   ]
  },
  {
   "cell_type": "code",
   "execution_count": 13,
   "metadata": {},
   "outputs": [
    {
     "name": "stdout",
     "output_type": "stream",
     "text": [
      "Intepreting LR\n",
      "Top weighted features for label 0:\n",
      " \n",
      " [('nodes', 0.0013258985251565511), ('date mm', 0.0015467157836162493), ('date', 0.001606133642765224), ('decreased', 0.0017731874304850622), ('unchanged', 0.002386100889910181), ('date mm dd 2017', 0.003040390802949387), ('dd 2017', 0.003040390802949387), ('mm dd 2017', 0.003040390802949387), ('2017', 0.0030782721562182813), ('no', 0.0032322310111624637)]\n",
      " -- \n",
      "\n"
     ]
    }
   ],
   "source": [
    "print(\"Intepreting LR\")\n",
    "for label in range(1):\n",
    "    coefs = lr.coef_[label]\n",
    "    vocab = np.array(countVec.get_feature_names())\n",
    "    num_features = 10\n",
    "\n",
    "    top = np.argpartition(coefs, -num_features)[-num_features:]\n",
    "    # Sort top\n",
    "    top = top[np.argsort(coefs[top])]\n",
    "    s_coef = coefs[top]\n",
    "    scored_vocab = list(zip(vocab[top], s_coef))\n",
    "    print(\"Top weighted features for label {}:\\n \\n {}\\n -- \\n\".format(label, scored_vocab))"
   ]
  },
  {
   "cell_type": "code",
   "execution_count": 14,
   "metadata": {},
   "outputs": [],
   "source": [
    "y_pred = lr.predict(X_test)"
   ]
  },
  {
   "cell_type": "code",
   "execution_count": 15,
   "metadata": {},
   "outputs": [
    {
     "data": {
      "text/plain": [
       "array([[56,  2],\n",
       "       [10,  5]], dtype=int64)"
      ]
     },
     "execution_count": 15,
     "metadata": {},
     "output_type": "execute_result"
    }
   ],
   "source": [
    "confusion_matrix(y_test, y_pred)"
   ]
  },
  {
   "cell_type": "code",
   "execution_count": null,
   "metadata": {},
   "outputs": [],
   "source": [
    "def clean_data(report):\n",
    "    start_string = 'impression'\n",
    "    stop_string = 'dictated by'\n",
    "    fallback = 'dictatedby'\n",
    "    \n",
    "    start_idx = report.find(start_string)\n",
    "    start_idx = max(0, start_idx)\n",
    "    \n",
    "    stop_idx = report.find(stop_string)\n",
    "    if stop_idx == -1:\n",
    "        stop_idx = report.find(fallback)\n",
    "        if stop_idx == -1:\n",
    "            stop_idx = len(report)\n",
    "            \n",
    "    return report[start_idx:stop_idx]"
   ]
  },
  {
   "cell_type": "code",
   "execution_count": null,
   "metadata": {},
   "outputs": [],
   "source": [
    "df_train = pd.read_csv('urop_dataset_training.csv')\n",
    "df_validation = pd.read_csv('urop_dataset_validation.csv')"
   ]
  },
  {
   "cell_type": "code",
   "execution_count": null,
   "metadata": {},
   "outputs": [],
   "source": [
    "def make_POD(curr):\n",
    "    if curr == \"POD/brain\":\n",
    "        return \"POD\"\n",
    "    return curr"
   ]
  },
  {
   "cell_type": "code",
   "execution_count": null,
   "metadata": {},
   "outputs": [],
   "source": [
    "# this field is the class we're trying to predict and hence we have to strip any whitespaces from it\n",
    "df_train[\"Objective Response per RECIST v1.1\"] = df_train[\"Objective Response per RECIST v1.1\"].apply(lambda x: make_POD(x.strip()))"
   ]
  },
  {
   "cell_type": "code",
   "execution_count": null,
   "metadata": {},
   "outputs": [],
   "source": [
    "# cleaning scan report text\n",
    "df_train[\"clean_report_text\"] = df_train[\"Scan report text\"].apply(lambda text: clean_data(re.sub('\\W+', ' ', text).lower().strip() + str(' ')))"
   ]
  },
  {
   "cell_type": "code",
   "execution_count": null,
   "metadata": {},
   "outputs": [],
   "source": [
    "temp_df = df_train.groupby(['Patient ID'])['clean_report_text'].apply(lambda x: x.sum())\n",
    "temp_labels = df_train.groupby(['Patient ID'])[\"Objective Response per RECIST v1.1\"].first()"
   ]
  },
  {
   "cell_type": "code",
   "execution_count": null,
   "metadata": {},
   "outputs": [],
   "source": [
    "text_train_X = temp_df\n",
    "text_train_y = temp_labels\n",
    "min_df = 1\n",
    "ngram_range = (1, 10)\n",
    "max_features = 1000000\n",
    "label_enc = LabelEncoder()\n",
    "enc = OneHotEncoder()\n",
    "countVec = CountVectorizer(min_df = min_df, ngram_range = ngram_range, max_features = max_features)\n",
    "# Learn vocabulary from train set\n",
    "countVec.fit(text_train_X)\n",
    "# Transform list of review to matrix of bag-of-word vectors\n",
    "trainX = countVec.transform(text_train_X)"
   ]
  },
  {
   "cell_type": "code",
   "execution_count": null,
   "metadata": {},
   "outputs": [],
   "source": [
    "label_enc_y = label_enc.fit(text_train_y.values)\n",
    "trainY = label_enc_y.transform(text_train_y.values.reshape(-1, 1))"
   ]
  },
  {
   "cell_type": "code",
   "execution_count": null,
   "metadata": {},
   "outputs": [],
   "source": [
    "lr = LogisticRegression(C=0.0005, verbose=True, class_weight='balanced')\n",
    "scores = cross_val_score(lr, trainX, trainY, cv=5)\n",
    "print(scores)\n",
    "print(scores.mean())"
   ]
  },
  {
   "cell_type": "code",
   "execution_count": null,
   "metadata": {},
   "outputs": [],
   "source": [
    "X_train, X_test, y_train, y_test = train_test_split(trainX, trainY, test_size=0.2, random_state=42)"
   ]
  },
  {
   "cell_type": "code",
   "execution_count": null,
   "metadata": {},
   "outputs": [],
   "source": [
    "lr = LogisticRegression(C=0.0007)\n",
    "lr.fit(X_train, y_train)\n",
    "print(lr.score(X_train, y_train))\n",
    "print(lr.score(X_test, y_test))"
   ]
  },
  {
   "cell_type": "code",
   "execution_count": null,
   "metadata": {},
   "outputs": [],
   "source": [
    "print(\"Intepreting LR\")\n",
    "for label in range(4):\n",
    "    coefs = lr.coef_[label]\n",
    "    vocab = np.array(countVec.get_feature_names())\n",
    "    num_features = 10\n",
    "\n",
    "    top = np.argpartition(coefs, -num_features)[-num_features:]\n",
    "    # Sort top\n",
    "    top = top[np.argsort(coefs[top])]\n",
    "    s_coef = coefs[top]\n",
    "    scored_vocab = list(zip(vocab[top], s_coef))\n",
    "    print(\"Top weighted features for label {}:\\n \\n {}\\n -- \\n\".format(label, scored_vocab))"
   ]
  },
  {
   "cell_type": "code",
   "execution_count": null,
   "metadata": {},
   "outputs": [],
   "source": []
  },
  {
   "cell_type": "code",
   "execution_count": null,
   "metadata": {},
   "outputs": [],
   "source": []
  }
 ],
 "metadata": {
  "kernelspec": {
   "display_name": "Python 3",
   "language": "python",
   "name": "python3"
  },
  "language_info": {
   "codemirror_mode": {
    "name": "ipython",
    "version": 3
   },
   "file_extension": ".py",
   "mimetype": "text/x-python",
   "name": "python",
   "nbconvert_exporter": "python",
   "pygments_lexer": "ipython3",
   "version": "3.6.5"
  }
 },
 "nbformat": 4,
 "nbformat_minor": 2
}
