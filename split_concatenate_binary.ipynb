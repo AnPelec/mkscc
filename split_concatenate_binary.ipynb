{
 "cells": [
  {
   "cell_type": "markdown",
   "metadata": {},
   "source": [
    "### The idea behind this is to split the reports and then concatenate the feature vectors\n",
    "\n",
    "##### Possible splitting points:\n",
    "###### - Baseline vs Ontx\n",
    "###### - Middle"
   ]
  },
  {
   "cell_type": "code",
   "execution_count": 1,
   "metadata": {},
   "outputs": [],
   "source": [
    "import re\n",
    "import numpy as np\n",
    "import pandas as pd\n",
    "from datetime import datetime\n",
    "from sklearn.metrics import confusion_matrix, f1_score\n",
    "from sklearn.preprocessing import LabelEncoder\n",
    "from sklearn.preprocessing import OneHotEncoder\n",
    "from sklearn.linear_model import LogisticRegression\n",
    "from sklearn.model_selection import cross_val_predict\n",
    "from sklearn.model_selection import cross_val_score\n",
    "from sklearn.model_selection import train_test_split\n",
    "from sklearn.ensemble import GradientBoostingClassifier\n",
    "from sklearn.feature_extraction.text import CountVectorizer"
   ]
  },
  {
   "cell_type": "code",
   "execution_count": 2,
   "metadata": {},
   "outputs": [],
   "source": [
    "# reading and preprocessing the data\n",
    "df_train = pd.read_csv('urop_dataset_training.csv')\n",
    "df_validation = pd.read_csv('urop_dataset_validation.csv')\n",
    "\n",
    "def make_POD(curr):\n",
    "    if curr == \"POD/brain\" or curr == \"SD\":\n",
    "        return \"POD\"\n",
    "    if curr == \"CR\":\n",
    "        return \"PR\"\n",
    "    return curr\n",
    "\n",
    "def preprocess(df_train):\n",
    "    # this field is the class we're trying to predict and hence we have to strip any whitespaces from it\n",
    "    df_train[\"Objective Response per RECIST v1.1\"] = df_train[\"Objective Response per RECIST v1.1\"].apply(lambda x: make_POD(x.strip()))\n",
    "    # cleaning scan report text - keep only words and numbers with spaces between them\n",
    "    df_train[\"clean_report_text\"] = df_train[\"Scan report text\"].apply(lambda text: re.sub('\\W+', ' ', text).lower().strip() + str(' '))\n",
    "    return df_train"
   ]
  },
  {
   "cell_type": "code",
   "execution_count": 3,
   "metadata": {},
   "outputs": [],
   "source": [
    "def make_groupings(df_train):\n",
    "    # group the reports by patient and baseline\n",
    "    column_patient = 'Patient ID'\n",
    "    column_baseline = 'Scan timepoint (baseline = prior to treatment start, ontx = during treatment or prior to progression if stopped treatment , progression = time of RECIST defined progression)'\n",
    "    df_train['is_baseline'] = (df_train[column_baseline] == 'baseline')\n",
    "    groupped_df = df_train.groupby([column_patient, 'is_baseline'])['clean_report_text'].apply(lambda x: x.sum())\n",
    "    predictions = df_train.groupby(['Patient ID'])[\"Objective Response per RECIST v1.1\"].first()\n",
    "\n",
    "    # fill missing reports with nothing\n",
    "    for i, v in groupped_df.iteritems():\n",
    "        patient, baseline = i\n",
    "        if (patient, not baseline) not in groupped_df:\n",
    "            groupped_df[(patient, not baseline)] = 'insert random word'\n",
    "\n",
    "    # now create the different dataframes\n",
    "    groupped_df = groupped_df.to_frame().reset_index()\n",
    "    baseline_reports = groupped_df[groupped_df['is_baseline'] == True]\n",
    "    progress_reports = groupped_df[groupped_df['is_baseline'] == False]\n",
    "    return (baseline_reports, progress_reports, predictions)"
   ]
  },
  {
   "cell_type": "code",
   "execution_count": 5,
   "metadata": {},
   "outputs": [],
   "source": [
    "# learn the bag of words representation for both types of df\n",
    "def learn_bow(reports, min_df=1, ngram_range=(1, 3), max_features=5000):\n",
    "    stopwords = [\"\"\"'mm', 'dd', '2017', '2016', '2015', '2014', '2013', '2012', 'date', 'md'\"\"\"]\n",
    "    countVec = CountVectorizer(min_df = min_df, \\\n",
    "                               ngram_range = ngram_range, \\\n",
    "                               max_features = max_features, \\\n",
    "                               stop_words = stopwords)\n",
    "    countVec.fit(reports)\n",
    "    return countVec.transform(reports)\n",
    "\n",
    "# baseline_bow = np.array(learn_bow(baseline_reports['clean_report_text'], max_features=10000).todense())\n",
    "#progress_bow = np.array(learn_bow(progress_reports['clean_report_text'], max_features=10000).todense())\n",
    "# overall_bow = np.hstack([baseline_bow, progress_bow])"
   ]
  },
  {
   "cell_type": "code",
   "execution_count": 6,
   "metadata": {},
   "outputs": [],
   "source": [
    "def prepare_y(data_y):\n",
    "    label_enc = LabelEncoder()\n",
    "    label_enc_y = label_enc.fit(data_y.values)\n",
    "    return label_enc_y.transform(data_y.values.reshape(-1, 1))"
   ]
  },
  {
   "cell_type": "code",
   "execution_count": 7,
   "metadata": {},
   "outputs": [],
   "source": [
    "def train_model(trainX, trainY, C=0.1):\n",
    "    lr = LogisticRegression(C=C, verbose=True, class_weight='balanced')\n",
    "    scores = cross_val_score(lr, trainX, trainY, cv=5)\n",
    "    print(scores)\n",
    "    print(scores.mean())"
   ]
  },
  {
   "cell_type": "code",
   "execution_count": 8,
   "metadata": {},
   "outputs": [
    {
     "ename": "NameError",
     "evalue": "name 'overall_bow' is not defined",
     "output_type": "error",
     "traceback": [
      "\u001b[1;31m---------------------------------------------------------------------------\u001b[0m",
      "\u001b[1;31mNameError\u001b[0m                                 Traceback (most recent call last)",
      "\u001b[1;32m<ipython-input-8-ae8d5546281a>\u001b[0m in \u001b[0;36m<module>\u001b[1;34m()\u001b[0m\n\u001b[1;32m----> 1\u001b[1;33m \u001b[0mtrain_model\u001b[0m\u001b[1;33m(\u001b[0m\u001b[0moverall_bow\u001b[0m\u001b[1;33m,\u001b[0m \u001b[0mprepare_y\u001b[0m\u001b[1;33m(\u001b[0m\u001b[0mpredictions\u001b[0m\u001b[1;33m)\u001b[0m\u001b[1;33m,\u001b[0m \u001b[1;36m0.01\u001b[0m\u001b[1;33m)\u001b[0m\u001b[1;33m\u001b[0m\u001b[0m\n\u001b[0m",
      "\u001b[1;31mNameError\u001b[0m: name 'overall_bow' is not defined"
     ]
    }
   ],
   "source": [
    "train_model(overall_bow, prepare_y(predictions), 0.01)"
   ]
  },
  {
   "cell_type": "code",
   "execution_count": 11,
   "metadata": {},
   "outputs": [],
   "source": [
    "def try_model(df_train, baseline_features=5000, progress_features=5000, C=0.1):\n",
    "    # preprocess dataset\n",
    "    df_train = preprocess(df_train)\n",
    "    # second step of data processing\n",
    "    (baseline_reports, progress_reports, predictions) = make_groupings(df_train)\n",
    "    # find trainX data\n",
    "    baseline_bow = np.array(learn_bow(baseline_reports['clean_report_text'], max_features=baseline_features).todense())\n",
    "    progress_bow = np.array(learn_bow(progress_reports['clean_report_text'], max_features=progress_features).todense())\n",
    "    trainX = np.hstack([baseline_bow, progress_bow])\n",
    "    # find trainY\n",
    "    trainY = prepare_y(predictions)\n",
    "    return (trainX, prepare_y(predictions), C)"
   ]
  },
  {
   "cell_type": "code",
   "execution_count": 14,
   "metadata": {},
   "outputs": [
    {
     "name": "stderr",
     "output_type": "stream",
     "text": [
      "C:\\ProgramData\\Anaconda3\\lib\\site-packages\\sklearn\\preprocessing\\label.py:128: DataConversionWarning: A column-vector y was passed when a 1d array was expected. Please change the shape of y to (n_samples, ), for example using ravel().\n",
      "  y = column_or_1d(y, warn=True)\n"
     ]
    },
    {
     "name": "stdout",
     "output_type": "stream",
     "text": [
      "[LibLinear][LibLinear][LibLinear][LibLinear][LibLinear][0.79452055 0.76712329 0.83561644 0.86111111 0.88732394]\n",
      "0.8291390657491371\n"
     ]
    },
    {
     "name": "stderr",
     "output_type": "stream",
     "text": [
      "C:\\ProgramData\\Anaconda3\\lib\\site-packages\\sklearn\\preprocessing\\label.py:128: DataConversionWarning: A column-vector y was passed when a 1d array was expected. Please change the shape of y to (n_samples, ), for example using ravel().\n",
      "  y = column_or_1d(y, warn=True)\n"
     ]
    },
    {
     "name": "stdout",
     "output_type": "stream",
     "text": [
      "[LibLinear][LibLinear][LibLinear][LibLinear][LibLinear][0.79452055 0.76712329 0.83561644 0.875      0.88732394]\n",
      "0.831916843526915\n"
     ]
    },
    {
     "name": "stderr",
     "output_type": "stream",
     "text": [
      "C:\\ProgramData\\Anaconda3\\lib\\site-packages\\sklearn\\preprocessing\\label.py:128: DataConversionWarning: A column-vector y was passed when a 1d array was expected. Please change the shape of y to (n_samples, ), for example using ravel().\n",
      "  y = column_or_1d(y, warn=True)\n"
     ]
    },
    {
     "name": "stdout",
     "output_type": "stream",
     "text": [
      "[LibLinear][LibLinear][LibLinear][LibLinear][LibLinear][0.78082192 0.78082192 0.83561644 0.88888889 0.88732394]\n",
      "0.8346946213046926\n"
     ]
    },
    {
     "name": "stderr",
     "output_type": "stream",
     "text": [
      "C:\\ProgramData\\Anaconda3\\lib\\site-packages\\sklearn\\preprocessing\\label.py:128: DataConversionWarning: A column-vector y was passed when a 1d array was expected. Please change the shape of y to (n_samples, ), for example using ravel().\n",
      "  y = column_or_1d(y, warn=True)\n"
     ]
    },
    {
     "name": "stdout",
     "output_type": "stream",
     "text": [
      "[LibLinear][LibLinear][LibLinear][LibLinear][LibLinear][0.82191781 0.78082192 0.84931507 0.875      0.87323944]\n",
      "0.8400588462280533\n"
     ]
    },
    {
     "name": "stderr",
     "output_type": "stream",
     "text": [
      "C:\\ProgramData\\Anaconda3\\lib\\site-packages\\sklearn\\preprocessing\\label.py:128: DataConversionWarning: A column-vector y was passed when a 1d array was expected. Please change the shape of y to (n_samples, ), for example using ravel().\n",
      "  y = column_or_1d(y, warn=True)\n"
     ]
    },
    {
     "name": "stdout",
     "output_type": "stream",
     "text": [
      "[LibLinear][LibLinear][LibLinear][LibLinear][LibLinear][0.82191781 0.79452055 0.84931507 0.84722222 0.85915493]\n",
      "0.8344261152914442\n"
     ]
    }
   ],
   "source": [
    "for _C in [0.03, 0.01, 0.005, 0.002, 0.001]:\n",
    "    trainX, trainY, C = try_model(df_train, C = _C)\n",
    "    train_model(trainX, trainY, C = C)"
   ]
  },
  {
   "cell_type": "code",
   "execution_count": 13,
   "metadata": {},
   "outputs": [
    {
     "name": "stderr",
     "output_type": "stream",
     "text": [
      "C:\\ProgramData\\Anaconda3\\lib\\site-packages\\sklearn\\preprocessing\\label.py:128: DataConversionWarning: A column-vector y was passed when a 1d array was expected. Please change the shape of y to (n_samples, ), for example using ravel().\n",
      "  y = column_or_1d(y, warn=True)\n"
     ]
    },
    {
     "name": "stdout",
     "output_type": "stream",
     "text": [
      "[LibLinear][LibLinear][LibLinear][LibLinear][LibLinear][0.79452055 0.76712329 0.83561644 0.875      0.88732394]\n",
      "0.831916843526915\n"
     ]
    },
    {
     "name": "stderr",
     "output_type": "stream",
     "text": [
      "C:\\ProgramData\\Anaconda3\\lib\\site-packages\\sklearn\\preprocessing\\label.py:128: DataConversionWarning: A column-vector y was passed when a 1d array was expected. Please change the shape of y to (n_samples, ), for example using ravel().\n",
      "  y = column_or_1d(y, warn=True)\n"
     ]
    },
    {
     "name": "stdout",
     "output_type": "stream",
     "text": [
      "[LibLinear][LibLinear][LibLinear][LibLinear][LibLinear][0.79452055 0.76712329 0.83561644 0.875      0.88732394]\n",
      "0.831916843526915\n"
     ]
    },
    {
     "name": "stderr",
     "output_type": "stream",
     "text": [
      "C:\\ProgramData\\Anaconda3\\lib\\site-packages\\sklearn\\preprocessing\\label.py:128: DataConversionWarning: A column-vector y was passed when a 1d array was expected. Please change the shape of y to (n_samples, ), for example using ravel().\n",
      "  y = column_or_1d(y, warn=True)\n"
     ]
    },
    {
     "name": "stdout",
     "output_type": "stream",
     "text": [
      "[LibLinear][LibLinear][LibLinear][LibLinear][LibLinear][0.79452055 0.76712329 0.83561644 0.875      0.88732394]\n",
      "0.831916843526915\n"
     ]
    },
    {
     "name": "stderr",
     "output_type": "stream",
     "text": [
      "C:\\ProgramData\\Anaconda3\\lib\\site-packages\\sklearn\\preprocessing\\label.py:128: DataConversionWarning: A column-vector y was passed when a 1d array was expected. Please change the shape of y to (n_samples, ), for example using ravel().\n",
      "  y = column_or_1d(y, warn=True)\n"
     ]
    },
    {
     "name": "stdout",
     "output_type": "stream",
     "text": [
      "[LibLinear][LibLinear][LibLinear][LibLinear][LibLinear][0.79452055 0.76712329 0.83561644 0.875      0.88732394]\n",
      "0.831916843526915\n"
     ]
    },
    {
     "name": "stderr",
     "output_type": "stream",
     "text": [
      "C:\\ProgramData\\Anaconda3\\lib\\site-packages\\sklearn\\preprocessing\\label.py:128: DataConversionWarning: A column-vector y was passed when a 1d array was expected. Please change the shape of y to (n_samples, ), for example using ravel().\n",
      "  y = column_or_1d(y, warn=True)\n"
     ]
    },
    {
     "name": "stdout",
     "output_type": "stream",
     "text": [
      "[LibLinear][LibLinear][LibLinear][LibLinear][LibLinear][0.79452055 0.76712329 0.83561644 0.875      0.88732394]\n",
      "0.831916843526915\n"
     ]
    },
    {
     "name": "stderr",
     "output_type": "stream",
     "text": [
      "C:\\ProgramData\\Anaconda3\\lib\\site-packages\\sklearn\\preprocessing\\label.py:128: DataConversionWarning: A column-vector y was passed when a 1d array was expected. Please change the shape of y to (n_samples, ), for example using ravel().\n",
      "  y = column_or_1d(y, warn=True)\n"
     ]
    },
    {
     "name": "stdout",
     "output_type": "stream",
     "text": [
      "[LibLinear][LibLinear][LibLinear][LibLinear][LibLinear][0.79452055 0.76712329 0.83561644 0.875      0.88732394]\n",
      "0.831916843526915\n"
     ]
    },
    {
     "name": "stderr",
     "output_type": "stream",
     "text": [
      "C:\\ProgramData\\Anaconda3\\lib\\site-packages\\sklearn\\preprocessing\\label.py:128: DataConversionWarning: A column-vector y was passed when a 1d array was expected. Please change the shape of y to (n_samples, ), for example using ravel().\n",
      "  y = column_or_1d(y, warn=True)\n"
     ]
    },
    {
     "name": "stdout",
     "output_type": "stream",
     "text": [
      "[LibLinear][LibLinear][LibLinear][LibLinear][LibLinear][0.79452055 0.76712329 0.83561644 0.875      0.88732394]\n",
      "0.831916843526915\n"
     ]
    },
    {
     "name": "stderr",
     "output_type": "stream",
     "text": [
      "C:\\ProgramData\\Anaconda3\\lib\\site-packages\\sklearn\\preprocessing\\label.py:128: DataConversionWarning: A column-vector y was passed when a 1d array was expected. Please change the shape of y to (n_samples, ), for example using ravel().\n",
      "  y = column_or_1d(y, warn=True)\n"
     ]
    },
    {
     "name": "stdout",
     "output_type": "stream",
     "text": [
      "[LibLinear][LibLinear][LibLinear][LibLinear][LibLinear][0.79452055 0.76712329 0.83561644 0.875      0.88732394]\n",
      "0.831916843526915\n"
     ]
    },
    {
     "name": "stderr",
     "output_type": "stream",
     "text": [
      "C:\\ProgramData\\Anaconda3\\lib\\site-packages\\sklearn\\preprocessing\\label.py:128: DataConversionWarning: A column-vector y was passed when a 1d array was expected. Please change the shape of y to (n_samples, ), for example using ravel().\n",
      "  y = column_or_1d(y, warn=True)\n"
     ]
    },
    {
     "name": "stdout",
     "output_type": "stream",
     "text": [
      "[LibLinear][LibLinear][LibLinear][LibLinear][LibLinear][0.79452055 0.76712329 0.83561644 0.875      0.88732394]\n",
      "0.831916843526915\n"
     ]
    }
   ],
   "source": [
    "for baseline_features in [2000, 4000, 8000]:\n",
    "    for progress_features in [2000, 4000, 8000]:\n",
    "        trainX, trainY, C = try_model(df_train, C = 0.01)\n",
    "        train_model(trainX, trainY, C = C)"
   ]
  },
  {
   "cell_type": "code",
   "execution_count": null,
   "metadata": {},
   "outputs": [],
   "source": []
  }
 ],
 "metadata": {
  "kernelspec": {
   "display_name": "Python 3",
   "language": "python",
   "name": "python3"
  },
  "language_info": {
   "codemirror_mode": {
    "name": "ipython",
    "version": 3
   },
   "file_extension": ".py",
   "mimetype": "text/x-python",
   "name": "python",
   "nbconvert_exporter": "python",
   "pygments_lexer": "ipython3",
   "version": "3.6.5"
  }
 },
 "nbformat": 4,
 "nbformat_minor": 2
}
